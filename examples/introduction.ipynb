{
 "cells": [
  {
   "cell_type": "markdown",
   "metadata": {},
   "source": [
    "# Introduction"
   ]
  },
  {
   "cell_type": "code",
   "execution_count": 7,
   "metadata": {},
   "outputs": [],
   "source": [
    "import ipyjs"
   ]
  },
  {
   "cell_type": "code",
   "execution_count": 8,
   "metadata": {},
   "outputs": [],
   "source": [
    "w = ipyjs.ExampleWidget()"
   ]
  },
  {
   "cell_type": "code",
   "execution_count": null,
   "metadata": {},
   "outputs": [
    {
     "name": "stdout",
     "output_type": "stream",
     "text": [
      "Done.\n"
     ]
    }
   ],
   "source": [
    "code = '''\n",
    "function wait(seconds) {\n",
    "  var start = new Date();\n",
    "  console.log(start)\n",
    "  //empty while loop until the required amount of time has passed\n",
    "  while((new Date() - start) / 1000 < seconds);\n",
    "}\n",
    "\n",
    "var begin = performance.now();\n",
    "\n",
    "console.log(\"start\");\n",
    "\n",
    "wait(1);\n",
    "wait(1);\n",
    "wait(1);\n",
    "wait(1);\n",
    "wait(1);\n",
    "wait(1);\n",
    "wait(1);\n",
    "wait(1);\n",
    "wait(1);\n",
    "wait(1);\n",
    "\n",
    "console.log(\"finish in\", performance.now() - begin, \"ms\");\n",
    "'''\n",
    "w.eval(code)"
   ]
  },
  {
   "cell_type": "code",
   "execution_count": null,
   "metadata": {},
   "outputs": [],
   "source": []
  },
  {
   "cell_type": "code",
   "execution_count": null,
   "metadata": {},
   "outputs": [],
   "source": []
  },
  {
   "cell_type": "code",
   "execution_count": null,
   "metadata": {},
   "outputs": [],
   "source": []
  },
  {
   "cell_type": "code",
   "execution_count": null,
   "metadata": {},
   "outputs": [],
   "source": []
  }
 ],
 "metadata": {
  "kernelspec": {
   "display_name": "Python 3 (ipykernel)",
   "language": "python",
   "name": "python3"
  },
  "language_info": {
   "codemirror_mode": {
    "name": "ipython",
    "version": 3
   },
   "file_extension": ".py",
   "mimetype": "text/x-python",
   "name": "python",
   "nbconvert_exporter": "python",
   "pygments_lexer": "ipython3",
   "version": "3.11.0"
  }
 },
 "nbformat": 4,
 "nbformat_minor": 4
}
